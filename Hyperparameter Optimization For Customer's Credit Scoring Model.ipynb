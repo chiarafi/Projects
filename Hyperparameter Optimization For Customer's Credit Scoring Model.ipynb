{
 "cells": [
  {
   "cell_type": "markdown",
   "metadata": {
    "deletable": false,
    "editable": false,
    "id": "1_t4V9bnt-hB",
    "nbgrader": {
     "cell_type": "markdown",
     "checksum": "5fbd7903204581d43e0cbd8bf5bd61e8",
     "grade": false,
     "grade_id": "cell-e911fa75d4ae6ea9",
     "locked": true,
     "schema_version": 3,
     "solution": false,
     "task": false
    }
   },
   "source": [
    "\n",
    "# Assignment 2: Hyperparameter Optimization For the Customer's Credit Scoring Model\n",
    "\n",
    "This notebook contains a set of exercises that will guide you through the different steps of this assignment. Solutions must be code-based, _i.e._ hard-coded or manually computed results will not be accepted. Remember to write your solutions to each exercise in the dedicated cells and not modify or remove the test cells. When completing all the exercises submit this same notebook back to Moodle in **.ipynb** format.\n",
    "<div class=\"alert alert-success\">\n",
    "\n",
    "The dataset consists of data about 1000 customers, encompassing 84 features extracted from their financial transactions and current financial status. The main aim is to utilize this dataset for credit risk assessment and forecasting potential defaults.\n",
    "\n",
    "Included within are two target variables, one designed for classification and the other for regression analysis:\n",
    "\n",
    "- **DEFAULT**: Binary target variable indicating if the customer has defaulted (1) or not (0)\n",
    "- **CREDIT_SCORE**: Numerical target variable representing the customer's credit score (integer)\n",
    "\n",
    "and these features:\n",
    "\n",
    "- **INCOME**: Total income in the last 12 months\n",
    "- **SAVINGS**: Total savings in the last 12 months\n",
    "- **DEBT**: Total existing debt\n",
    "- **R_SAVINGS_INCOME**: Ratio of savings to income\n",
    "- **R_DEBT_INCOME**: Ratio of debt to income\n",
    "- **R_DEBT_SAVINGS**: Ratio of debt to savings\n",
    "\n",
    "Transaction groups (**GROCERIES**, **CLOTHING**, **HOUSING**, **EDUCATION**, **HEALTH**, **TRAVEL**, **ENTERTAINMENT**, **GAMBLING**, **UTILITIES**, **TAX**, **FINES**) are categorized.\n",
    "\n",
    "- **T_{GROUP}_6**: Total expenditure in that group in the last 6 months\n",
    "- **T_GROUP_12**: Total expenditure in that group in the last 12 months\n",
    "- **R_[GROUP]**: Ratio of T_[GROUP]6 to T[GROUP]_12\n",
    "- **R_[GROUP]INCOME**: Ratio of T[GROUP]_12 to INCOME\n",
    "- **R_[GROUP]SAVINGS**: Ratio of T[GROUP]_12 to SAVINGS\n",
    "- **R_[GROUP]DEBT**: Ratio of T[GROUP]_12 to DEBT\n",
    "\n",
    "Categorical Features:\n",
    "\n",
    "- **CAT_GAMBLING**: Gambling category (none, low, high)\n",
    "- **CAT_DEBT**: 1 if the customer has debt; 0 otherwise\n",
    "- **CAT_CREDIT_CARD**: 1 if the customer has a credit card; 0 otherwise\n",
    "- **CAT_MORTGAGE**: 1 if the customer has a mortgage; 0 otherwise\n",
    "- **CAT_SAVINGS_ACCOUNT**: 1 if the customer has a savings account; 0 otherwise\n",
    "- **CAT_DEPENDENTS**: 1 if the customer has any dependents; 0 otherwise\n",
    "- **CAT_LOCATION**: Location (San Francisco, Philadelphia, Los Angeles, etc.)\n",
    "- **CAT_MARITAL_STATUS**: Marital status (Married, Widowed, Divorced or Single)\n",
    "- **CAT_EDUCATION**: Level of Education (Postgraduate, College, High School or Graduate)\n",
    "\n",
    "</div>\n",
    "\n",
    "<div class=\"alert alert-danger\"><b>Submission deadline:</b> Sunday, March 17th, 23:55</div>"
   ]
  },
  {
   "cell_type": "code",
   "execution_count": null,
   "metadata": {
    "ExecuteTime": {
     "end_time": "2024-02-01T13:13:43.396554250Z",
     "start_time": "2024-02-01T13:13:43.012460676Z"
    },
    "deletable": false,
    "editable": false,
    "nbgrader": {
     "cell_type": "code",
     "checksum": "7871551e55faf200ca6bfe8177b9d4b1",
     "grade": false,
     "grade_id": "cell-0d9a7d4e70c072c6",
     "locked": true,
     "schema_version": 3,
     "solution": false,
     "task": false
    }
   },
   "outputs": [],
   "source": [
    "import pandas as pd\n",
    "from sklearn import set_config\n",
    "\n",
    "set_config(transform_output=\"pandas\")"
   ]
  },
  {
   "cell_type": "markdown",
   "metadata": {
    "deletable": false,
    "editable": false,
    "id": "JdETeU66gS1E",
    "nbgrader": {
     "cell_type": "markdown",
     "checksum": "6befbbc121d069d371d51f7c72d496e4",
     "grade": false,
     "grade_id": "cell-8f995c9cdf882820",
     "locked": true,
     "schema_version": 3,
     "solution": false,
     "task": false
    }
   },
   "source": [
    "<div class=\"alert alert-info\"><b>Exercise 1</b>\n",
    "    \n",
    "Load the data from the link: https://raw.githubusercontent.com/jnin/information-systems/main/data/AI2_23_24_credit_score.csv in a DataFrame called ```df```. This time, drop only the column ```CUST_ID```.\n",
    "\n",
    "Then, Write the code to create the feature matrix ```X``` and the target array ```y``` (```DEFAULT```), then split them into separate training and test sets with a relative size of 0.75 and 0.25. Store the training and tests feature matrix in variables called ```X_train``` and ```X_test```, and the training and test label arrays as ```y_train``` and ```y_test```.    \n",
    "<br><i>[0.5 points]</i>\n",
    "</div>\n",
    "<div class=\"alert alert-warning\">\n",
    "    \n",
    "Don't forget to remove the column ```CREDIT_SCORE``` from ```X```. This variable serves as the target array for the regression exercises.\n",
    "\n",
    "</div>"
   ]
  },
  {
   "cell_type": "code",
   "execution_count": null,
   "metadata": {
    "ExecuteTime": {
     "end_time": "2024-02-01T13:13:43.438723068Z",
     "start_time": "2024-02-01T13:13:43.436617296Z"
    },
    "deletable": false,
    "nbgrader": {
     "cell_type": "code",
     "checksum": "3416f03882927817c5373de161fb4a59",
     "grade": false,
     "grade_id": "ex1",
     "locked": false,
     "schema_version": 3,
     "solution": true,
     "task": false
    }
   },
   "outputs": [],
   "source": [
    "# YOUR CODE HERE"
   ]
  },
  {
   "cell_type": "code",
   "execution_count": null,
   "metadata": {
    "ExecuteTime": {
     "end_time": "2024-02-01T13:13:43.439844166Z",
     "start_time": "2024-02-01T13:13:43.436748178Z"
    },
    "deletable": false,
    "editable": false,
    "jupyter": {
     "outputs_hidden": false
    },
    "nbgrader": {
     "cell_type": "code",
     "checksum": "f1e8a3495dc29e897b8e82182812409d",
     "grade": true,
     "grade_id": "test1_1",
     "locked": true,
     "points": 0.1,
     "schema_version": 3,
     "solution": false,
     "task": false
    }
   },
   "outputs": [],
   "source": [
    "# LEAVE BLANK"
   ]
  },
  {
   "cell_type": "code",
   "execution_count": null,
   "metadata": {
    "ExecuteTime": {
     "end_time": "2024-02-01T13:13:43.463388867Z",
     "start_time": "2024-02-01T13:13:43.436788838Z"
    },
    "deletable": false,
    "editable": false,
    "nbgrader": {
     "cell_type": "code",
     "checksum": "2c0033466b08ac6c5bf6cdebb2dbdbe6",
     "grade": true,
     "grade_id": "test1_2",
     "locked": true,
     "points": 0.2,
     "schema_version": 3,
     "solution": false,
     "task": false
    }
   },
   "outputs": [],
   "source": [
    "# LEAVE BLANK"
   ]
  },
  {
   "cell_type": "code",
   "execution_count": null,
   "metadata": {
    "ExecuteTime": {
     "end_time": "2024-02-01T13:13:43.464799046Z",
     "start_time": "2024-02-01T13:13:43.463485201Z"
    },
    "deletable": false,
    "editable": false,
    "jupyter": {
     "outputs_hidden": false
    },
    "nbgrader": {
     "cell_type": "code",
     "checksum": "3b0f56767b545c98b31f1819d90dd70d",
     "grade": true,
     "grade_id": "test1_3",
     "locked": true,
     "points": 0.2,
     "schema_version": 3,
     "solution": false,
     "task": false
    }
   },
   "outputs": [],
   "source": [
    "# LEAVE BLANK"
   ]
  },
  {
   "cell_type": "markdown",
   "metadata": {
    "deletable": false,
    "editable": false,
    "id": "I4Ai5L-bgQI-",
    "nbgrader": {
     "cell_type": "markdown",
     "checksum": "4b277ee83db610e8354b4d7d67239048",
     "grade": false,
     "grade_id": "cell-cac60b3d5a84bc9f",
     "locked": true,
     "schema_version": 3,
     "solution": false,
     "task": false
    }
   },
   "source": [
    "<div class=\"alert alert-info\"><b>Exercise 2</b>\n",
    "\n",
    "Write the code to construct a two-branched `Pipeline` – one branch for categorical attributes and another for numerical attributes. For categorical variables, employ a `SimpleImputer` with the most frequent strategy and an `OneHotEncoder`. For numerical attributes, use a `SimpleImputer` with the mean and a `StandardScaler`. The pipeline must conclude by training a `DecisionTreeClassifier` without hyper-parameter tuning. Save the resulting pipeline in a variable named `pipe`.\n",
    "<br><i>[1.5 points]</i>\n",
    "</div>\n"
   ]
  },
  {
   "cell_type": "code",
   "execution_count": null,
   "metadata": {
    "ExecuteTime": {
     "end_time": "2024-02-01T13:13:43.481812680Z",
     "start_time": "2024-02-01T13:13:43.467426158Z"
    },
    "deletable": false,
    "nbgrader": {
     "cell_type": "code",
     "checksum": "e312a6da82f8c4bc37df98d9182e9662",
     "grade": false,
     "grade_id": "ex2",
     "locked": false,
     "schema_version": 3,
     "solution": true,
     "task": false
    }
   },
   "outputs": [],
   "source": [
    "# YOUR CODE HERE"
   ]
  },
  {
   "cell_type": "code",
   "execution_count": null,
   "metadata": {
    "ExecuteTime": {
     "end_time": "2024-02-01T13:13:43.483069472Z",
     "start_time": "2024-02-01T13:13:43.472173887Z"
    },
    "deletable": false,
    "editable": false,
    "nbgrader": {
     "cell_type": "code",
     "checksum": "183c6765eaa1427f1e74bcd66d2eb876",
     "grade": true,
     "grade_id": "test2_1",
     "locked": true,
     "points": 0.2,
     "schema_version": 3,
     "solution": false,
     "task": false
    }
   },
   "outputs": [],
   "source": [
    "# LEAVE BLANK"
   ]
  },
  {
   "cell_type": "code",
   "execution_count": null,
   "metadata": {
    "ExecuteTime": {
     "end_time": "2024-02-01T13:13:43.483921102Z",
     "start_time": "2024-02-01T13:13:43.475366192Z"
    },
    "deletable": false,
    "editable": false,
    "nbgrader": {
     "cell_type": "code",
     "checksum": "f5c10def82ac47d09521fe3344fe7d35",
     "grade": true,
     "grade_id": "test2_2",
     "locked": true,
     "points": 0.2,
     "schema_version": 3,
     "solution": false,
     "task": false
    }
   },
   "outputs": [],
   "source": [
    "# LEAVE BLANK"
   ]
  },
  {
   "cell_type": "code",
   "execution_count": null,
   "metadata": {
    "ExecuteTime": {
     "end_time": "2024-02-01T13:13:43.484730960Z",
     "start_time": "2024-02-01T13:13:43.480566966Z"
    },
    "deletable": false,
    "editable": false,
    "nbgrader": {
     "cell_type": "code",
     "checksum": "7ca2e71544afe309a37d8dbce6dab47b",
     "grade": true,
     "grade_id": "test2_3",
     "locked": true,
     "points": 0.1,
     "schema_version": 3,
     "solution": false,
     "task": false
    }
   },
   "outputs": [],
   "source": [
    "# LEAVE BLANK"
   ]
  },
  {
   "cell_type": "code",
   "execution_count": null,
   "metadata": {
    "ExecuteTime": {
     "end_time": "2024-02-01T13:13:43.530296236Z",
     "start_time": "2024-02-01T13:13:43.483520967Z"
    },
    "deletable": false,
    "editable": false,
    "nbgrader": {
     "cell_type": "code",
     "checksum": "a7c5f626aa1abe491f75008bc35af018",
     "grade": true,
     "grade_id": "test2_4",
     "locked": true,
     "points": 0.1,
     "schema_version": 3,
     "solution": false,
     "task": false
    }
   },
   "outputs": [],
   "source": [
    "# LEAVE BLANK"
   ]
  },
  {
   "cell_type": "code",
   "execution_count": null,
   "metadata": {
    "ExecuteTime": {
     "end_time": "2024-02-01T13:13:43.531020774Z",
     "start_time": "2024-02-01T13:13:43.500824482Z"
    },
    "deletable": false,
    "editable": false,
    "nbgrader": {
     "cell_type": "code",
     "checksum": "d113b50bce032098393dce9093d1f82c",
     "grade": true,
     "grade_id": "test2_5",
     "locked": true,
     "points": 0.1,
     "schema_version": 3,
     "solution": false,
     "task": false
    }
   },
   "outputs": [],
   "source": [
    "# LEAVE BLANK"
   ]
  },
  {
   "cell_type": "code",
   "execution_count": null,
   "metadata": {
    "ExecuteTime": {
     "end_time": "2024-02-01T13:13:43.531575488Z",
     "start_time": "2024-02-01T13:13:43.500987718Z"
    },
    "deletable": false,
    "editable": false,
    "jupyter": {
     "outputs_hidden": false
    },
    "nbgrader": {
     "cell_type": "code",
     "checksum": "9b17d1f407ece98a9603a274fd3f7bfb",
     "grade": true,
     "grade_id": "test2_6",
     "locked": true,
     "points": 0.1,
     "schema_version": 3,
     "solution": false,
     "task": false
    }
   },
   "outputs": [],
   "source": [
    "# LEAVE BLANK"
   ]
  },
  {
   "cell_type": "code",
   "execution_count": null,
   "metadata": {
    "ExecuteTime": {
     "end_time": "2024-02-01T13:13:43.532092572Z",
     "start_time": "2024-02-01T13:13:43.501062304Z"
    },
    "deletable": false,
    "editable": false,
    "jupyter": {
     "outputs_hidden": false
    },
    "nbgrader": {
     "cell_type": "code",
     "checksum": "7204964ec285bd3e2035640499a17740",
     "grade": true,
     "grade_id": "test2_7",
     "locked": true,
     "points": 0.05,
     "schema_version": 3,
     "solution": false,
     "task": false
    }
   },
   "outputs": [],
   "source": [
    "# LEAVE BLANK"
   ]
  },
  {
   "cell_type": "code",
   "execution_count": null,
   "metadata": {
    "ExecuteTime": {
     "end_time": "2024-02-01T13:13:43.532629230Z",
     "start_time": "2024-02-01T13:13:43.501128018Z"
    },
    "deletable": false,
    "editable": false,
    "jupyter": {
     "outputs_hidden": false
    },
    "nbgrader": {
     "cell_type": "code",
     "checksum": "83e8d14b0f0369672cdef8fcad09c0ce",
     "grade": true,
     "grade_id": "test2_8",
     "locked": true,
     "points": 0.075,
     "schema_version": 3,
     "solution": false,
     "task": false
    }
   },
   "outputs": [],
   "source": [
    "# LEAVE BLANK"
   ]
  },
  {
   "cell_type": "code",
   "execution_count": null,
   "metadata": {
    "ExecuteTime": {
     "end_time": "2024-02-01T13:13:43.533197801Z",
     "start_time": "2024-02-01T13:13:43.501195910Z"
    },
    "deletable": false,
    "editable": false,
    "jupyter": {
     "outputs_hidden": false
    },
    "nbgrader": {
     "cell_type": "code",
     "checksum": "fa3bc316b27b3c41f9985a4e4e4e89c1",
     "grade": true,
     "grade_id": "test2_9",
     "locked": true,
     "points": 0.075,
     "schema_version": 3,
     "solution": false,
     "task": false
    }
   },
   "outputs": [],
   "source": [
    "# LEAVE BLANK"
   ]
  },
  {
   "cell_type": "code",
   "execution_count": null,
   "metadata": {
    "ExecuteTime": {
     "end_time": "2024-02-01T13:13:43.533726552Z",
     "start_time": "2024-02-01T13:13:43.501342183Z"
    },
    "deletable": false,
    "editable": false,
    "nbgrader": {
     "cell_type": "code",
     "checksum": "6ecb1385e81febc3940f6917a0b021d1",
     "grade": true,
     "grade_id": "test2_10",
     "locked": true,
     "points": 0.1,
     "schema_version": 3,
     "solution": false,
     "task": false
    }
   },
   "outputs": [],
   "source": [
    "# LEAVE BLANK"
   ]
  },
  {
   "cell_type": "code",
   "execution_count": null,
   "metadata": {
    "ExecuteTime": {
     "end_time": "2024-02-01T13:13:43.548564009Z",
     "start_time": "2024-02-01T13:13:43.504341925Z"
    },
    "deletable": false,
    "editable": false,
    "nbgrader": {
     "cell_type": "code",
     "checksum": "d6e97e1649449b38a539073da92b10c2",
     "grade": true,
     "grade_id": "test2_11",
     "locked": true,
     "points": 0.2,
     "schema_version": 3,
     "solution": false,
     "task": false
    }
   },
   "outputs": [],
   "source": [
    "# LEAVE BLANK"
   ]
  },
  {
   "cell_type": "code",
   "execution_count": null,
   "metadata": {
    "ExecuteTime": {
     "end_time": "2024-02-01T13:13:43.565852216Z",
     "start_time": "2024-02-01T13:13:43.507456165Z"
    },
    "deletable": false,
    "editable": false,
    "jupyter": {
     "outputs_hidden": false
    },
    "nbgrader": {
     "cell_type": "code",
     "checksum": "3ec81a969eb4d5d00cc3bc0efadd8345",
     "grade": true,
     "grade_id": "test2_12",
     "locked": true,
     "points": 0.2,
     "schema_version": 3,
     "solution": false,
     "task": false
    }
   },
   "outputs": [],
   "source": [
    "# LEAVE BLANK"
   ]
  },
  {
   "cell_type": "markdown",
   "metadata": {
    "deletable": false,
    "editable": false,
    "id": "I4Ai5L-bgQI-",
    "nbgrader": {
     "cell_type": "markdown",
     "checksum": "fb904e463b93d48791aca89596fb0ed6",
     "grade": false,
     "grade_id": "cell2334242",
     "locked": true,
     "schema_version": 3,
     "solution": false,
     "task": false
    }
   },
   "source": [
    "<div class=\"alert alert-info\"><b>Exercise 3</b>\n",
    "\n",
    "Write the code to estimate the performance of the model using cross-validation with **five** stratified folds. Store the five test score values in a dictionary called ```fold_scores```.\n",
    "<br><i>[0.5 points]</i>\n",
    "</div>"
   ]
  },
  {
   "cell_type": "code",
   "execution_count": null,
   "metadata": {
    "ExecuteTime": {
     "end_time": "2024-02-01T13:13:43.667091138Z",
     "start_time": "2024-02-01T13:13:43.547668083Z"
    },
    "deletable": false,
    "id": "2EZ4PgrhYpcn",
    "nbgrader": {
     "cell_type": "code",
     "checksum": "69b315830f2239f6d81c0964227610ff",
     "grade": false,
     "grade_id": "ex3",
     "locked": false,
     "schema_version": 3,
     "solution": true,
     "task": false
    }
   },
   "outputs": [],
   "source": [
    "# YOUR CODE HERE"
   ]
  },
  {
   "cell_type": "code",
   "execution_count": null,
   "metadata": {
    "ExecuteTime": {
     "end_time": "2024-02-01T13:13:43.720903489Z",
     "start_time": "2024-02-01T13:13:43.680078620Z"
    },
    "deletable": false,
    "editable": false,
    "nbgrader": {
     "cell_type": "code",
     "checksum": "37ed832abe675bdaa5941f4c67bc3493",
     "grade": true,
     "grade_id": "test3_1",
     "locked": true,
     "points": 0.5,
     "schema_version": 3,
     "solution": false,
     "task": false
    }
   },
   "outputs": [],
   "source": [
    "# LEAVE BLANK"
   ]
  },
  {
   "cell_type": "markdown",
   "metadata": {
    "deletable": false,
    "editable": false,
    "id": "I4Ai5L-bgQI-",
    "nbgrader": {
     "cell_type": "markdown",
     "checksum": "f6539bb3ee8c1bc66b4078c42cb46d52",
     "grade": false,
     "grade_id": "cell-cac60b3d5artw84bcasdfa",
     "locked": true,
     "schema_version": 3,
     "solution": false,
     "task": false
    }
   },
   "source": [
    "<div class=\"alert alert-info\"><b>Exercise 4</b>\n",
    "\n",
    "Write the code to instantiate a ```GridSearchCV``` object named `grid`, fitting it with **only three folds**. This ```GridSearchCV``` object should incorporate the previous pipeline and explore diverse hyperparameters to enhance the predictive capability of the previous `DecisionTreeClassifier`. Employ the grid search wisely, avoiding testing an excessive number of alternatives.\n",
    "\n",
    "Lastly, save the score (accuracy) achieved by the best hyperparameter combination in a variable named `score`.\n",
    "<br><i>[1.5 points]</i>\n",
    "</div>"
   ]
  },
  {
   "cell_type": "code",
   "execution_count": null,
   "metadata": {
    "ExecuteTime": {
     "end_time": "2024-02-01T13:13:44.125353662Z",
     "start_time": "2024-02-01T13:13:43.720731280Z"
    },
    "deletable": false,
    "nbgrader": {
     "cell_type": "code",
     "checksum": "00ef2091bcd0c6ccc4ed66e901f1fff9",
     "grade": false,
     "grade_id": "ex4",
     "locked": false,
     "schema_version": 3,
     "solution": true,
     "task": false
    }
   },
   "outputs": [],
   "source": [
    "# YOUR CODE HERE"
   ]
  },
  {
   "cell_type": "code",
   "execution_count": null,
   "metadata": {
    "ExecuteTime": {
     "end_time": "2024-02-01T13:13:44.128925494Z",
     "start_time": "2024-02-01T13:13:44.125499335Z"
    },
    "deletable": false,
    "editable": false,
    "nbgrader": {
     "cell_type": "code",
     "checksum": "27bbb525950b887058d2bde69862a60d",
     "grade": true,
     "grade_id": "test4_1",
     "locked": true,
     "points": 0.25,
     "schema_version": 3,
     "solution": false,
     "task": false
    }
   },
   "outputs": [],
   "source": [
    "# LEAVE BLANK"
   ]
  },
  {
   "cell_type": "code",
   "execution_count": null,
   "metadata": {
    "ExecuteTime": {
     "end_time": "2024-02-01T13:13:44.165355972Z",
     "start_time": "2024-02-01T13:13:44.127813140Z"
    },
    "deletable": false,
    "editable": false,
    "nbgrader": {
     "cell_type": "code",
     "checksum": "06fbab0612fd581dc99cc8b78ae50153",
     "grade": true,
     "grade_id": "test4_2",
     "locked": true,
     "points": 0.25,
     "schema_version": 3,
     "solution": false,
     "task": false
    }
   },
   "outputs": [],
   "source": [
    "# LEAVE BLANK"
   ]
  },
  {
   "cell_type": "code",
   "execution_count": null,
   "metadata": {
    "ExecuteTime": {
     "end_time": "2024-02-01T13:13:44.166878428Z",
     "start_time": "2024-02-01T13:13:44.160637678Z"
    },
    "deletable": false,
    "editable": false,
    "jupyter": {
     "outputs_hidden": false
    },
    "nbgrader": {
     "cell_type": "code",
     "checksum": "274631418770617d16e2da2bb27b93fe",
     "grade": true,
     "grade_id": "test4_3",
     "locked": true,
     "points": 0.25,
     "schema_version": 3,
     "solution": false,
     "task": false
    }
   },
   "outputs": [],
   "source": [
    "# LEAVE BLANK"
   ]
  },
  {
   "cell_type": "code",
   "execution_count": null,
   "metadata": {
    "ExecuteTime": {
     "end_time": "2024-02-01T13:13:44.167993607Z",
     "start_time": "2024-02-01T13:13:44.160776355Z"
    },
    "deletable": false,
    "editable": false,
    "nbgrader": {
     "cell_type": "code",
     "checksum": "cac8822a22fe917b070056205421cd36",
     "grade": true,
     "grade_id": "test4_4",
     "locked": true,
     "points": 0.5,
     "schema_version": 3,
     "solution": false,
     "task": false
    }
   },
   "outputs": [],
   "source": [
    "# LEAVE BLANK"
   ]
  },
  {
   "cell_type": "code",
   "execution_count": null,
   "metadata": {
    "ExecuteTime": {
     "end_time": "2024-02-01T13:13:44.169053437Z",
     "start_time": "2024-02-01T13:13:44.160846866Z"
    },
    "deletable": false,
    "editable": false,
    "nbgrader": {
     "cell_type": "code",
     "checksum": "834c4046855f7ce5d3741666c540b8f3",
     "grade": true,
     "grade_id": "test4_5",
     "locked": true,
     "points": 0.25,
     "schema_version": 3,
     "solution": false,
     "task": false
    }
   },
   "outputs": [],
   "source": [
    "# LEAVE BLANK"
   ]
  },
  {
   "cell_type": "markdown",
   "metadata": {
    "collapsed": false,
    "deletable": false,
    "editable": false,
    "jupyter": {
     "outputs_hidden": false
    },
    "nbgrader": {
     "cell_type": "markdown",
     "checksum": "808e10febc9a8536848ab6e23a536ce3",
     "grade": false,
     "grade_id": "cell-26ddf4ebda523f00",
     "locked": true,
     "schema_version": 3,
     "solution": false,
     "task": false
    }
   },
   "source": [
    "<div class=\"alert alert-info\"><b>Exercise 5</b>\n",
    "\n",
    "    \n",
    "Write the code to compute the generalization accuracy for the best model of the ```GridSearchCV``` object, and store this score in a variable called ```generalization_score```.\n",
    "<br><i>[1 point]</i>\n",
    "</div>"
   ]
  },
  {
   "cell_type": "code",
   "execution_count": null,
   "metadata": {
    "ExecuteTime": {
     "end_time": "2024-02-01T13:13:44.170115176Z",
     "start_time": "2024-02-01T13:13:44.160905475Z"
    },
    "deletable": false,
    "jupyter": {
     "outputs_hidden": false
    },
    "nbgrader": {
     "cell_type": "code",
     "checksum": "bb47640b2984de2eac9bddf8c8c891c6",
     "grade": false,
     "grade_id": "ex5",
     "locked": false,
     "schema_version": 3,
     "solution": true,
     "task": false
    }
   },
   "outputs": [],
   "source": [
    "# YOUR CODE HERE"
   ]
  },
  {
   "cell_type": "code",
   "execution_count": null,
   "metadata": {
    "ExecuteTime": {
     "end_time": "2024-02-01T13:13:44.184383587Z",
     "start_time": "2024-02-01T13:13:44.161016378Z"
    },
    "deletable": false,
    "editable": false,
    "jupyter": {
     "outputs_hidden": false
    },
    "nbgrader": {
     "cell_type": "code",
     "checksum": "c24774e1c265fc722a7bf0d59c7a01ee",
     "grade": true,
     "grade_id": "test5_1",
     "locked": true,
     "points": 1,
     "schema_version": 3,
     "solution": false,
     "task": false
    }
   },
   "outputs": [],
   "source": [
    "# LEAVE BLANK"
   ]
  },
  {
   "cell_type": "markdown",
   "metadata": {
    "deletable": false,
    "editable": false,
    "id": "I4Ai5L-bgQI-",
    "nbgrader": {
     "cell_type": "markdown",
     "checksum": "7571bd240cd917d66bc525f3ba1012ec",
     "grade": false,
     "grade_id": "cell-cac60b3d5artw84ba",
     "locked": true,
     "schema_version": 3,
     "solution": false,
     "task": false
    }
   },
   "source": [
    "<div class=\"alert alert-info\"><b>Exercise 6</b>\n",
    "    \n",
    "The previous grid search is incomplete because it only optimizes the hyperparameters of the decision tree classifier. Now, let's replicate the same process but expand the scope to include testing parameters of all the steps within the pipeline for a regression task, with the CREDIT_SCORE attribute as the target array. This exercise is open-ended enabling you to explore any hyperparameters from the scaler, imputer, transformer, encoder, or model components. Do not limit yourself to linear models, instead, employ two diverse models: XGBRegressor and SVR. Finally, return the estimated generalization capability of both models.\n",
    "<br><i>[5 points]</i>\n",
    "</div>"
   ]
  },
  {
   "cell_type": "code",
   "execution_count": null,
   "metadata": {
    "ExecuteTime": {
     "end_time": "2024-02-01T13:14:04.097769079Z",
     "start_time": "2024-02-01T13:13:44.161097827Z"
    },
    "deletable": false,
    "nbgrader": {
     "cell_type": "code",
     "checksum": "174ff7858c0bdac5a8a8a69899540683",
     "grade": true,
     "grade_id": "ex6",
     "locked": false,
     "points": 5,
     "schema_version": 3,
     "solution": true,
     "task": false
    }
   },
   "outputs": [],
   "source": [
    "# YOUR CODE HERE"
   ]
  }
 ],
 "metadata": {
  "colab": {
   "collapsed_sections": [],
   "name": "Session I.ipynb",
   "provenance": []
  },
  "kernelspec": {
   "display_name": "Python 3 (ipykernel)",
   "language": "python",
   "name": "python3"
  },
  "language_info": {
   "codemirror_mode": {
    "name": "ipython",
    "version": 3
   },
   "file_extension": ".py",
   "mimetype": "text/x-python",
   "name": "python",
   "nbconvert_exporter": "python",
   "pygments_lexer": "ipython3",
   "version": "3.11.7"
  }
 },
 "nbformat": 4,
 "nbformat_minor": 4
}
