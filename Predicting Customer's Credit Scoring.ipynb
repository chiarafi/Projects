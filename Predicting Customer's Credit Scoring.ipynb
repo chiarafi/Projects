{
 "cells": [
  {
   "cell_type": "markdown",
   "metadata": {
    "deletable": false,
    "editable": false,
    "id": "1_t4V9bnt-hB",
    "nbgrader": {
     "cell_type": "markdown",
     "checksum": "80b5753191e35cc17286f338eb42a313",
     "grade": false,
     "grade_id": "cell-e911fa75d4ae6ea9",
     "locked": true,
     "schema_version": 3,
     "solution": false,
     "task": false
    }
   },
   "source": [
    "\n",
    "# Assignment 1: Predicting Customer's Credit Scoring\n",
    "\n",
    "This notebook contains a set of exercises that will guide you through the different steps of this assignment. Solutions must be code-based, _i.e._ hard-coded or manually computed results will not be accepted. Remember to write your solutions to each exercise in the dedicated cells and not modify or remove the test cells. When completing all the exercises submit this same notebook back to Moodle in **.ipynb** format.\n",
    "<div class=\"alert alert-success\">\n",
    "\n",
    "The dataset consists of data about 1000 customers, encompassing 84 features extracted from their financial transactions and current financial status. The main aim is to utilize this dataset for credit risk assessment and forecasting potential defaults.\n",
    "\n",
    "Included within are two target variables, one designed for classification and the other for regression analysis:\n",
    "\n",
    "- **DEFAULT**: Binary target variable indicating if the customer has defaulted (1) or not (0)\n",
    "- **CREDIT_SCORE**: Numerical target variable representing the customer's credit score (integer)\n",
    "\n",
    "and these features:\n",
    "\n",
    "- **INCOME**: Total income in the last 12 months\n",
    "- **SAVINGS**: Total savings in the last 12 months\n",
    "- **DEBT**: Total existing debt\n",
    "- **R_SAVINGS_INCOME**: Ratio of savings to income\n",
    "- **R_DEBT_INCOME**: Ratio of debt to income\n",
    "- **R_DEBT_SAVINGS**: Ratio of debt to savings\n",
    "\n",
    "Transaction groups (**GROCERIES**, **CLOTHING**, **HOUSING**, **EDUCATION**, **HEALTH**, **TRAVEL**, **ENTERTAINMENT**, **GAMBLING**, **UTILITIES**, **TAX**, **FINES**) are categorized.\n",
    "\n",
    "- **T_{GROUP}_6**: Total expenditure in that group in the last 6 months\n",
    "- **T_GROUP_12**: Total expenditure in that group in the last 12 months\n",
    "- **R_[GROUP]**: Ratio of T_[GROUP]6 to T[GROUP]_12\n",
    "- **R_[GROUP]INCOME**: Ratio of T[GROUP]_12 to INCOME\n",
    "- **R_[GROUP]SAVINGS**: Ratio of T[GROUP]_12 to SAVINGS\n",
    "- **R_[GROUP]DEBT**: Ratio of T[GROUP]_12 to DEBT\n",
    "\n",
    "Categorical Features:\n",
    "\n",
    "- **CAT_GAMBLING**: Gambling category (none, low, high)\n",
    "- **CAT_DEBT**: 1 if the customer has debt; 0 otherwise\n",
    "- **CAT_CREDIT_CARD**: 1 if the customer has a credit card; 0 otherwise\n",
    "- **CAT_MORTGAGE**: 1 if the customer has a mortgage; 0 otherwise\n",
    "- **CAT_SAVINGS_ACCOUNT**: 1 if the customer has a savings account; 0 otherwise\n",
    "- **CAT_DEPENDENTS**: 1 if the customer has any dependents; 0 otherwise\n",
    "- **CAT_LOCATION**: Location (San Francisco, Philadelphia, Los Angeles, etc.)\n",
    "- **CAT_MARITAL_STATUS**: Marital status (Married, Widowed, Divorced or Single)\n",
    "- **CAT_EDUCATION**: Level of Education (Postgraduate, College, High School or Graduate)\n",
    "\n",
    "</div>\n",
    "\n",
    "<div class=\"alert alert-danger\"><b>Submission deadline:</b> Sunday, February 25th, 23:55</div>\n"
   ]
  },
  {
   "cell_type": "code",
   "execution_count": null,
   "metadata": {
    "ExecuteTime": {
     "end_time": "2024-02-01T13:07:07.690460390Z",
     "start_time": "2024-02-01T13:07:07.178665418Z"
    },
    "deletable": false,
    "editable": false,
    "id": "1gbj1gyT16vl",
    "nbgrader": {
     "cell_type": "code",
     "checksum": "735f4f6e3e40334e05620b1fd11eeac4",
     "grade": false,
     "grade_id": "cell-0fcbc57512e78927",
     "locked": true,
     "schema_version": 3,
     "solution": false,
     "task": false
    }
   },
   "outputs": [],
   "source": [
    "import pandas as pd\n",
    "import numpy as np\n",
    "from sklearn import set_config\n",
    "\n",
    "set_config(transform_output=\"pandas\")"
   ]
  },
  {
   "cell_type": "markdown",
   "metadata": {
    "deletable": false,
    "editable": false,
    "id": "JdETeU66gS1E",
    "nbgrader": {
     "cell_type": "markdown",
     "checksum": "1836353e5137cdfed5bb3577cb77b62f",
     "grade": false,
     "grade_id": "cell-8f995c9cdf882820",
     "locked": true,
     "schema_version": 3,
     "solution": false,
     "task": false
    }
   },
   "source": [
    "<div class=\"alert alert-info\"><b>Exercise 1</b>\n",
    "\n",
    "Load the data from the link: https://raw.githubusercontent.com/jnin/information-systems/main/data/AI2_23_24_credit_score.csv in a DataFrame called ```df```. Then, select the following columns:\n",
    "\n",
    "```INCOME, SAVINGS, DEBT, T_CLOTHING_12, T_CLOTHING_6, R_CLOTHING, R_CLOTHING_INCOME, R_CLOTHING_SAVINGS, R_CLOTHING_DEBT, T_EDUCATION_12, T_EDUCATION_6, R_EDUCATION, R_EDUCATION_INCOME, R_EDUCATION_SAVINGS, R_EDUCATION_DEBT, T_GROCERIES_12, T_GROCERIES_6, R_GROCERIES, R_GROCERIES_INCOME, R_GROCERIES_SAVINGS, R_GROCERIES_DEBT, T_HEALTH_12, T_HEALTH_6, R_HEALTH, R_HEALTH_INCOME, R_HEALTH_SAVINGS, R_HEALTH_DEBT, T_HOUSING_12, T_HOUSING_6, R_HOUSING, R_HOUSING_INCOME, R_HOUSING_SAVINGS, R_HOUSING_DEBT, CAT_GAMBLING, CAT_DEBT, CAT_CREDIT_CARD, CAT_MORTGAGE, CAT_SAVINGS_ACCOUNT, CAT_DEPENDENTS, CREDIT_SCORE, DEFAULT```\n",
    "<br><i>[0.25 points]</i>\n",
    "</div>\n",
    "<div class=\"alert alert-warning\">\n",
    "    \n",
    "Remember, Python is case-sensitive. The resulting DataFrame ```df``` should contain 41 columns.  \n",
    "\n",
    "Do not download the dataset. Instead, read the data directly from the provided link.\n",
    "\n",
    "</div>"
   ]
  },
  {
   "cell_type": "code",
   "execution_count": null,
   "metadata": {
    "ExecuteTime": {
     "end_time": "2024-02-01T15:52:26.263572836Z",
     "start_time": "2024-02-01T15:52:26.047149750Z"
    },
    "deletable": false,
    "id": "2EZ4PgrhYpcn",
    "nbgrader": {
     "cell_type": "code",
     "checksum": "3416f03882927817c5373de161fb4a59",
     "grade": false,
     "grade_id": "ex1",
     "locked": false,
     "schema_version": 3,
     "solution": true,
     "task": false
    }
   },
   "outputs": [],
   "source": [
    "# YOUR CODE HERE"
   ]
  },
  {
   "cell_type": "code",
   "execution_count": null,
   "metadata": {
    "ExecuteTime": {
     "end_time": "2024-02-01T13:07:07.758170857Z",
     "start_time": "2024-02-01T13:07:07.700080833Z"
    },
    "deletable": false,
    "editable": false,
    "nbgrader": {
     "cell_type": "code",
     "checksum": "ff6dc58a90ecd286c8037bbd7e772466",
     "grade": true,
     "grade_id": "test1_1",
     "locked": true,
     "points": 0.25,
     "schema_version": 3,
     "solution": false,
     "task": false
    }
   },
   "outputs": [],
   "source": [
    "#LEAVE BLANK"
   ]
  },
  {
   "cell_type": "markdown",
   "metadata": {
    "deletable": false,
    "editable": false,
    "id": "evERSqB9MPid",
    "nbgrader": {
     "cell_type": "markdown",
     "checksum": "eec2ba12f35299213769e18a1ce88189",
     "grade": false,
     "grade_id": "cell-c7c37aaa2f33b369",
     "locked": true,
     "schema_version": 3,
     "solution": false,
     "task": false
    }
   },
   "source": [
    "<div class=\"alert alert-info\"><b>Exercise 2</b> \n",
    "    \n",
    "Write the code to create the feature matrix ```X``` and the target array ```y``` (```DEFAULT```), then split them into separate training and test sets with a relative size of 0.75 and 0.25. Store the training and tests feature matrix in variables called ```X_train``` and ```X_test```, and the training and test label arrays as ```y_train``` and ```y_test```.\n",
    "<br><i>[0.75 points]</i>\n",
    "</div>\n",
    "\n",
    "<div class=\"alert alert-warning\">\n",
    "    \n",
    "Don't forget to remove the column ```CREDIT_SCORE``` from ```X```. This variable serves as the target array for exercises 6 and 7.\n",
    "\n",
    "</div>"
   ]
  },
  {
   "cell_type": "code",
   "execution_count": null,
   "metadata": {
    "ExecuteTime": {
     "end_time": "2024-02-01T13:07:07.783069413Z",
     "start_time": "2024-02-01T13:07:07.759560200Z"
    },
    "deletable": false,
    "id": "rnxOTovpEqpu",
    "nbgrader": {
     "cell_type": "code",
     "checksum": "e312a6da82f8c4bc37df98d9182e9662",
     "grade": false,
     "grade_id": "ex2",
     "locked": false,
     "schema_version": 3,
     "solution": true,
     "task": false
    }
   },
   "outputs": [],
   "source": [
    "# YOUR CODE HERE"
   ]
  },
  {
   "cell_type": "code",
   "execution_count": null,
   "metadata": {
    "ExecuteTime": {
     "end_time": "2024-02-01T13:07:07.784261343Z",
     "start_time": "2024-02-01T13:07:07.763547081Z"
    },
    "deletable": false,
    "editable": false,
    "nbgrader": {
     "cell_type": "code",
     "checksum": "dce4ce98b9aa0e83a8639da4e094c460",
     "grade": true,
     "grade_id": "test2_1",
     "locked": true,
     "points": 0.25,
     "schema_version": 3,
     "solution": false,
     "task": false
    }
   },
   "outputs": [],
   "source": [
    "# LEAVE BLANK"
   ]
  },
  {
   "cell_type": "code",
   "execution_count": null,
   "metadata": {
    "ExecuteTime": {
     "end_time": "2024-02-01T13:07:07.804044044Z",
     "start_time": "2024-02-01T13:07:07.766772765Z"
    },
    "deletable": false,
    "editable": false,
    "jupyter": {
     "outputs_hidden": false
    },
    "nbgrader": {
     "cell_type": "code",
     "checksum": "1475602122f5703ca985c52402000b8d",
     "grade": true,
     "grade_id": "test2_2",
     "locked": true,
     "points": 0.25,
     "schema_version": 3,
     "solution": false,
     "task": false
    }
   },
   "outputs": [],
   "source": [
    "# LEAVE BLANK"
   ]
  },
  {
   "cell_type": "code",
   "execution_count": null,
   "metadata": {
    "ExecuteTime": {
     "end_time": "2024-02-01T13:07:07.806162989Z",
     "start_time": "2024-02-01T13:07:07.787953535Z"
    },
    "deletable": false,
    "editable": false,
    "nbgrader": {
     "cell_type": "code",
     "checksum": "30fe3e5887b244d5c37b0c20d8c94a7f",
     "grade": true,
     "grade_id": "test2_3",
     "locked": true,
     "points": 0.25,
     "schema_version": 3,
     "solution": false,
     "task": false
    }
   },
   "outputs": [],
   "source": [
    "# LEAVE BLANK"
   ]
  },
  {
   "cell_type": "markdown",
   "metadata": {
    "deletable": false,
    "editable": false,
    "id": "evERSqB9MPid",
    "nbgrader": {
     "cell_type": "markdown",
     "checksum": "4b2c15bb02a5dcd6224718caf9c12bfe",
     "grade": false,
     "grade_id": "cell-c7c37aaa2f33b36",
     "locked": true,
     "schema_version": 3,
     "solution": false,
     "task": false
    }
   },
   "source": [
    "<div class=\"alert alert-info\"><b>Exercise 3 </b> \n",
    "\n",
    "    \n",
    "The resulting feature matrix contains a categorical variable (```CAT_GAMBLING```). Write the code to create a ```ColumnTransformer``` to encode it using the one-hot encoding method. Store the transformer in a variable called ```transformer```. At this stage, you do not need to run it.\n",
    "<br><i>[1 point]</i>\n",
    "</div>\n",
    "\n",
    "<div class='alert alert-warning'>\n",
    "\n",
    "Ensure that the rest of the attributes remain intact.\n",
    "</div>"
   ]
  },
  {
   "cell_type": "code",
   "execution_count": null,
   "metadata": {
    "ExecuteTime": {
     "end_time": "2024-02-01T13:07:07.823032010Z",
     "start_time": "2024-02-01T13:07:07.788330392Z"
    },
    "deletable": false,
    "nbgrader": {
     "cell_type": "code",
     "checksum": "69b315830f2239f6d81c0964227610ff",
     "grade": false,
     "grade_id": "ex3",
     "locked": false,
     "schema_version": 3,
     "solution": true,
     "task": false
    }
   },
   "outputs": [],
   "source": [
    "# YOUR CODE HERE"
   ]
  },
  {
   "cell_type": "code",
   "execution_count": null,
   "metadata": {
    "ExecuteTime": {
     "end_time": "2024-02-01T13:07:07.824281171Z",
     "start_time": "2024-02-01T13:07:07.788608963Z"
    },
    "deletable": false,
    "editable": false,
    "jupyter": {
     "outputs_hidden": false
    },
    "nbgrader": {
     "cell_type": "code",
     "checksum": "1081e2efe83e60e896ad16f68c2a658d",
     "grade": true,
     "grade_id": "test3_1",
     "locked": true,
     "points": 0.1,
     "schema_version": 3,
     "solution": false,
     "task": false
    }
   },
   "outputs": [],
   "source": [
    "# LEAVE BLANK"
   ]
  },
  {
   "cell_type": "code",
   "execution_count": null,
   "metadata": {
    "ExecuteTime": {
     "end_time": "2024-02-01T13:07:07.825359265Z",
     "start_time": "2024-02-01T13:07:07.788814254Z"
    },
    "deletable": false,
    "editable": false,
    "jupyter": {
     "outputs_hidden": false
    },
    "nbgrader": {
     "cell_type": "code",
     "checksum": "6d06f7ad32039cb547a4a1c865377479",
     "grade": true,
     "grade_id": "test3_2",
     "locked": true,
     "points": 0.1,
     "schema_version": 3,
     "solution": false,
     "task": false
    }
   },
   "outputs": [],
   "source": [
    "# LEAVE BLANK"
   ]
  },
  {
   "cell_type": "code",
   "execution_count": null,
   "metadata": {
    "ExecuteTime": {
     "end_time": "2024-02-01T13:07:07.826441069Z",
     "start_time": "2024-02-01T13:07:07.788942933Z"
    },
    "deletable": false,
    "editable": false,
    "nbgrader": {
     "cell_type": "code",
     "checksum": "06fcccd02494adc4026e0ba258f71f4c",
     "grade": true,
     "grade_id": "test3_3",
     "locked": true,
     "points": 0.2,
     "schema_version": 3,
     "solution": false,
     "task": false
    }
   },
   "outputs": [],
   "source": [
    "# LEAVE BLANK"
   ]
  },
  {
   "cell_type": "code",
   "execution_count": null,
   "metadata": {
    "ExecuteTime": {
     "end_time": "2024-02-01T13:07:07.827410751Z",
     "start_time": "2024-02-01T13:07:07.789102150Z"
    },
    "deletable": false,
    "editable": false,
    "nbgrader": {
     "cell_type": "code",
     "checksum": "18d5cf00841abaccace79a84e973679d",
     "grade": true,
     "grade_id": "test3_4",
     "locked": true,
     "points": 0.2,
     "schema_version": 3,
     "solution": false,
     "task": false
    }
   },
   "outputs": [],
   "source": [
    "# LEAVE BLANK"
   ]
  },
  {
   "cell_type": "code",
   "execution_count": null,
   "metadata": {
    "ExecuteTime": {
     "end_time": "2024-02-01T13:07:07.843480910Z",
     "start_time": "2024-02-01T13:07:07.790880896Z"
    },
    "deletable": false,
    "editable": false,
    "nbgrader": {
     "cell_type": "code",
     "checksum": "7813c20ea6201876b91c750e78718250",
     "grade": true,
     "grade_id": "test3_5",
     "locked": true,
     "points": 0.2,
     "schema_version": 3,
     "solution": false,
     "task": false
    }
   },
   "outputs": [],
   "source": [
    "# LEAVE BLANK"
   ]
  },
  {
   "cell_type": "code",
   "execution_count": null,
   "metadata": {
    "ExecuteTime": {
     "end_time": "2024-02-01T13:07:07.844567487Z",
     "start_time": "2024-02-01T13:07:07.794287164Z"
    },
    "deletable": false,
    "editable": false,
    "jupyter": {
     "outputs_hidden": false
    },
    "nbgrader": {
     "cell_type": "code",
     "checksum": "d7c136da599143deac4bacc146c5e926",
     "grade": true,
     "grade_id": "test3_6",
     "locked": true,
     "points": 0.2,
     "schema_version": 3,
     "solution": false,
     "task": false
    }
   },
   "outputs": [],
   "source": [
    "# LEAVE BLANK"
   ]
  },
  {
   "cell_type": "markdown",
   "metadata": {
    "deletable": false,
    "editable": false,
    "id": "evERSqB9MPid",
    "nbgrader": {
     "cell_type": "markdown",
     "checksum": "ec1fdf8e2a687a7622b5b1999e6867ac",
     "grade": false,
     "grade_id": "cell-c7c37a1aa2f33b36",
     "locked": true,
     "schema_version": 3,
     "solution": false,
     "task": false
    }
   },
   "source": [
    "<div class=\"alert alert-info\"><b>Exercise 4 </b> \n",
    "\n",
    "Some of the attributes contain missing values. Write the code to create a ```Pipeline``` consisting of a ```SimpleImputer``` with the most frequent strategy, the previous transformer, a standard scaler, and a logistic regression model. Store the resulting pipeline in a variable called ```pipe```.\n",
    "<br><i>[2 points]</i>\n",
    "</div>\n",
    "\n",
    "<div class='alert alert-warning'>\n",
    "\n",
    "Be sure you apply the data transformations in the correct order.\n",
    "\n",
    "For the sake of simplicity, utilize the same `SimpleImputer` across all attributes, regardless of whether they have missing values or other imputers might appear more suitable.\n",
    "</div>"
   ]
  },
  {
   "cell_type": "code",
   "execution_count": null,
   "metadata": {
    "ExecuteTime": {
     "end_time": "2024-02-01T13:07:07.845561658Z",
     "start_time": "2024-02-01T13:07:07.797615851Z"
    },
    "deletable": false,
    "nbgrader": {
     "cell_type": "code",
     "checksum": "00ef2091bcd0c6ccc4ed66e901f1fff9",
     "grade": false,
     "grade_id": "ex4",
     "locked": false,
     "schema_version": 3,
     "solution": true,
     "task": false
    }
   },
   "outputs": [],
   "source": [
    "# YOUR CODE HERE"
   ]
  },
  {
   "cell_type": "code",
   "execution_count": null,
   "metadata": {
    "ExecuteTime": {
     "end_time": "2024-02-01T13:07:07.897946150Z",
     "start_time": "2024-02-01T13:07:07.801348249Z"
    },
    "deletable": false,
    "editable": false,
    "nbgrader": {
     "cell_type": "code",
     "checksum": "fbd548b1d9a4117bdb8813370885c86c",
     "grade": true,
     "grade_id": "test4_1",
     "locked": true,
     "points": 0.1,
     "schema_version": 3,
     "solution": false,
     "task": false
    }
   },
   "outputs": [],
   "source": [
    "# LEAVE BLANK"
   ]
  },
  {
   "cell_type": "code",
   "execution_count": null,
   "metadata": {
    "ExecuteTime": {
     "end_time": "2024-02-01T13:07:07.899688617Z",
     "start_time": "2024-02-01T13:07:07.820553888Z"
    },
    "deletable": false,
    "editable": false,
    "jupyter": {
     "outputs_hidden": false
    },
    "nbgrader": {
     "cell_type": "code",
     "checksum": "8b418fd3c251f16f53c303ba638d285c",
     "grade": true,
     "grade_id": "test4_2",
     "locked": true,
     "points": 0.1,
     "schema_version": 3,
     "solution": false,
     "task": false
    }
   },
   "outputs": [],
   "source": [
    "# LEAVE BLANK"
   ]
  },
  {
   "cell_type": "code",
   "execution_count": null,
   "metadata": {
    "ExecuteTime": {
     "end_time": "2024-02-01T13:07:07.901268343Z",
     "start_time": "2024-02-01T13:07:07.820856147Z"
    },
    "deletable": false,
    "editable": false,
    "nbgrader": {
     "cell_type": "code",
     "checksum": "0d95766097a4a13f7edf90de009ee3ce",
     "grade": true,
     "grade_id": "test4_3",
     "locked": true,
     "points": 0.1,
     "schema_version": 3,
     "solution": false,
     "task": false
    }
   },
   "outputs": [],
   "source": [
    "# LEAVE BLANK"
   ]
  },
  {
   "cell_type": "code",
   "execution_count": null,
   "metadata": {
    "ExecuteTime": {
     "end_time": "2024-02-01T13:07:07.902743031Z",
     "start_time": "2024-02-01T13:07:07.821023921Z"
    },
    "deletable": false,
    "editable": false,
    "nbgrader": {
     "cell_type": "code",
     "checksum": "d86158d995790783e6654648f234b583",
     "grade": true,
     "grade_id": "test4_4",
     "locked": true,
     "points": 0.1,
     "schema_version": 3,
     "solution": false,
     "task": false
    }
   },
   "outputs": [],
   "source": [
    "# LEAVE BLANK"
   ]
  },
  {
   "cell_type": "code",
   "execution_count": null,
   "metadata": {
    "ExecuteTime": {
     "end_time": "2024-02-01T13:07:07.924385470Z",
     "start_time": "2024-02-01T13:07:07.821170564Z"
    },
    "deletable": false,
    "editable": false,
    "nbgrader": {
     "cell_type": "code",
     "checksum": "29e2befc66381997b4c4c2b87b7015e4",
     "grade": true,
     "grade_id": "test4_5",
     "locked": true,
     "points": 0.1,
     "schema_version": 3,
     "solution": false,
     "task": false
    }
   },
   "outputs": [],
   "source": [
    "# LEAVE BLANK"
   ]
  },
  {
   "cell_type": "code",
   "execution_count": null,
   "metadata": {
    "ExecuteTime": {
     "end_time": "2024-02-01T13:07:07.926019505Z",
     "start_time": "2024-02-01T13:07:07.821316493Z"
    },
    "deletable": false,
    "editable": false,
    "jupyter": {
     "outputs_hidden": false
    },
    "nbgrader": {
     "cell_type": "code",
     "checksum": "36d496a95fd7624790e21a9d18fcaa57",
     "grade": true,
     "grade_id": "test4_6",
     "locked": true,
     "points": 0.1,
     "schema_version": 3,
     "solution": false,
     "task": false
    }
   },
   "outputs": [],
   "source": [
    "# LEAVE BLANK"
   ]
  },
  {
   "cell_type": "code",
   "execution_count": null,
   "metadata": {
    "ExecuteTime": {
     "end_time": "2024-02-01T13:07:07.927511769Z",
     "start_time": "2024-02-01T13:07:07.821565701Z"
    },
    "deletable": false,
    "editable": false,
    "jupyter": {
     "outputs_hidden": false
    },
    "nbgrader": {
     "cell_type": "code",
     "checksum": "c82bd372c9f00fde5ed8fd4083eb5d74",
     "grade": true,
     "grade_id": "test4_7",
     "locked": true,
     "points": 0.2,
     "schema_version": 3,
     "solution": false,
     "task": false
    }
   },
   "outputs": [],
   "source": [
    "# LEAVE BLANK"
   ]
  },
  {
   "cell_type": "code",
   "execution_count": null,
   "metadata": {
    "ExecuteTime": {
     "end_time": "2024-02-01T13:07:07.982676156Z",
     "start_time": "2024-02-01T13:07:07.825097177Z"
    },
    "deletable": false,
    "editable": false,
    "jupyter": {
     "outputs_hidden": false
    },
    "nbgrader": {
     "cell_type": "code",
     "checksum": "8754c76e3e75f1dee1200ff4517ef91b",
     "grade": true,
     "grade_id": "test4_8",
     "locked": true,
     "points": 0.3,
     "schema_version": 3,
     "solution": false,
     "task": false
    }
   },
   "outputs": [],
   "source": [
    "# LEAVE BLANK"
   ]
  },
  {
   "cell_type": "code",
   "execution_count": null,
   "metadata": {
    "ExecuteTime": {
     "end_time": "2024-02-01T13:07:07.984841440Z",
     "start_time": "2024-02-01T13:07:07.866350154Z"
    },
    "deletable": false,
    "editable": false,
    "jupyter": {
     "outputs_hidden": false
    },
    "nbgrader": {
     "cell_type": "code",
     "checksum": "1d5c3d9833caab084b4e7b4382f3b313",
     "grade": true,
     "grade_id": "test4_9",
     "locked": true,
     "points": 0.3,
     "schema_version": 3,
     "solution": false,
     "task": false
    }
   },
   "outputs": [],
   "source": [
    "# LEAVE BLANK"
   ]
  },
  {
   "cell_type": "code",
   "execution_count": null,
   "metadata": {
    "ExecuteTime": {
     "end_time": "2024-02-01T13:07:07.986508024Z",
     "start_time": "2024-02-01T13:07:07.867582323Z"
    },
    "deletable": false,
    "editable": false,
    "jupyter": {
     "outputs_hidden": false
    },
    "nbgrader": {
     "cell_type": "code",
     "checksum": "e5c1c4105e799e4e0ad1af92a55b981c",
     "grade": true,
     "grade_id": "test4_10",
     "locked": true,
     "points": 0.3,
     "schema_version": 3,
     "solution": false,
     "task": false
    }
   },
   "outputs": [],
   "source": [
    "# LEAVE BLANK"
   ]
  },
  {
   "cell_type": "code",
   "execution_count": null,
   "metadata": {
    "ExecuteTime": {
     "end_time": "2024-02-01T13:07:07.988298187Z",
     "start_time": "2024-02-01T13:07:07.867759130Z"
    },
    "deletable": false,
    "editable": false,
    "jupyter": {
     "outputs_hidden": false
    },
    "nbgrader": {
     "cell_type": "code",
     "checksum": "dcd27dac9e8943ab892fd64a07628c5e",
     "grade": true,
     "grade_id": "test4_11",
     "locked": true,
     "points": 0.3,
     "schema_version": 3,
     "solution": false,
     "task": false
    }
   },
   "outputs": [],
   "source": [
    "# LEAVE BLANK"
   ]
  },
  {
   "cell_type": "markdown",
   "metadata": {
    "deletable": false,
    "editable": false,
    "id": "evERSqB9MPid",
    "nbgrader": {
     "cell_type": "markdown",
     "checksum": "a83f1c590c436213a4b76b008a4dc95b",
     "grade": false,
     "grade_id": "cell-c7c37a1aa2fjk33b36",
     "locked": true,
     "schema_version": 3,
     "solution": false,
     "task": false
    }
   },
   "source": [
    "<div class=\"alert alert-info\"><b>Exercise 5 </b> \n",
    "    \n",
    "Write the code to store the achieved accuracy, recall, precision, and f1 in five variables called ```accuracy```, ```recall```, ```precision```, and ```f1``` respectively. \n",
    "<br><i>[1 point]</i>\n",
    "</div>\n",
    "\n",
    "<div class='alert alert-warning'>\n",
    "\n",
    "Be sure you use the train and test datasets correctly.\n",
    "</div>"
   ]
  },
  {
   "cell_type": "code",
   "execution_count": null,
   "metadata": {
    "ExecuteTime": {
     "end_time": "2024-02-01T13:07:08.049899564Z",
     "start_time": "2024-02-01T13:07:07.867937576Z"
    },
    "deletable": false,
    "nbgrader": {
     "cell_type": "code",
     "checksum": "bb47640b2984de2eac9bddf8c8c891c6",
     "grade": false,
     "grade_id": "ex5",
     "locked": false,
     "schema_version": 3,
     "solution": true,
     "task": false
    }
   },
   "outputs": [],
   "source": [
    "# YOUR CODE HERE"
   ]
  },
  {
   "cell_type": "code",
   "execution_count": null,
   "metadata": {
    "ExecuteTime": {
     "end_time": "2024-02-01T13:07:08.065599322Z",
     "start_time": "2024-02-01T13:07:07.898645179Z"
    },
    "deletable": false,
    "editable": false,
    "jupyter": {
     "outputs_hidden": false
    },
    "nbgrader": {
     "cell_type": "code",
     "checksum": "f2d907899eb9f6916026547193b85b1e",
     "grade": true,
     "grade_id": "test5_1",
     "locked": true,
     "points": 0.2,
     "schema_version": 3,
     "solution": false,
     "task": false
    }
   },
   "outputs": [],
   "source": [
    "# LEAVE BLANK"
   ]
  },
  {
   "cell_type": "code",
   "execution_count": null,
   "metadata": {
    "ExecuteTime": {
     "end_time": "2024-02-01T13:07:08.066635581Z",
     "start_time": "2024-02-01T13:07:07.941365060Z"
    },
    "deletable": false,
    "editable": false,
    "jupyter": {
     "outputs_hidden": false
    },
    "nbgrader": {
     "cell_type": "code",
     "checksum": "f9ae67684e9c7510e7a7547538d2db3c",
     "grade": true,
     "grade_id": "test5_2",
     "locked": true,
     "points": 0.2,
     "schema_version": 3,
     "solution": false,
     "task": false
    }
   },
   "outputs": [],
   "source": [
    "# LEAVE BLANK"
   ]
  },
  {
   "cell_type": "code",
   "execution_count": null,
   "metadata": {
    "ExecuteTime": {
     "end_time": "2024-02-01T13:07:08.067479929Z",
     "start_time": "2024-02-01T13:07:07.941649753Z"
    },
    "deletable": false,
    "editable": false,
    "jupyter": {
     "outputs_hidden": false
    },
    "nbgrader": {
     "cell_type": "code",
     "checksum": "5e22f3158842498ddb8096d0574da481",
     "grade": true,
     "grade_id": "test5_3",
     "locked": true,
     "points": 0.2,
     "schema_version": 3,
     "solution": false,
     "task": false
    }
   },
   "outputs": [],
   "source": [
    "# LEAVE BLANK"
   ]
  },
  {
   "cell_type": "code",
   "execution_count": null,
   "metadata": {
    "ExecuteTime": {
     "end_time": "2024-02-01T13:07:08.068276372Z",
     "start_time": "2024-02-01T13:07:07.941841803Z"
    },
    "deletable": false,
    "editable": false,
    "jupyter": {
     "outputs_hidden": false
    },
    "nbgrader": {
     "cell_type": "code",
     "checksum": "fe2349464efa044e46964c8b43f45f2b",
     "grade": true,
     "grade_id": "test5_4",
     "locked": true,
     "points": 0.2,
     "schema_version": 3,
     "solution": false,
     "task": false
    }
   },
   "outputs": [],
   "source": [
    "# LEAVE BLANK"
   ]
  },
  {
   "cell_type": "code",
   "execution_count": null,
   "metadata": {
    "ExecuteTime": {
     "end_time": "2024-02-01T13:07:08.069037532Z",
     "start_time": "2024-02-01T13:07:07.942008642Z"
    },
    "deletable": false,
    "editable": false,
    "jupyter": {
     "outputs_hidden": false
    },
    "nbgrader": {
     "cell_type": "code",
     "checksum": "fec1ea8510f63573dd16b89eb6a8d1ba",
     "grade": true,
     "grade_id": "test5_5",
     "locked": true,
     "points": 0.2,
     "schema_version": 3,
     "solution": false,
     "task": false
    }
   },
   "outputs": [],
   "source": [
    "# LEAVE BLANK"
   ]
  },
  {
   "cell_type": "markdown",
   "metadata": {
    "collapsed": false,
    "deletable": false,
    "editable": false,
    "jupyter": {
     "outputs_hidden": false
    },
    "nbgrader": {
     "cell_type": "markdown",
     "checksum": "ce36ef55789cc040f0335d04da3cde03",
     "grade": false,
     "grade_id": "cell-308a96d2ad9e173d",
     "locked": true,
     "schema_version": 3,
     "solution": false,
     "task": false
    }
   },
   "source": [
    "<div class=\"alert alert-info\"><b>Execute the following cell </b>\n",
    "    \n",
    "As explained in the S2 video, logistic regression, akin to all linear models, derives feature importance from its weights when classifying a given sample. Execute the following cell to visualize the weights and grasp which attributes contribute the most in the decision.\n",
    "</div>"
   ]
  },
  {
   "cell_type": "code",
   "execution_count": null,
   "metadata": {
    "ExecuteTime": {
     "end_time": "2024-02-01T13:07:08.383634913Z",
     "start_time": "2024-02-01T13:07:07.942152738Z"
    },
    "deletable": false,
    "editable": false,
    "jupyter": {
     "outputs_hidden": false
    },
    "nbgrader": {
     "cell_type": "code",
     "checksum": "49fb23c493238c2bcc7d2914f42c13bb",
     "grade": false,
     "grade_id": "cell-1ea446adf7521dec",
     "locked": true,
     "schema_version": 3,
     "solution": false,
     "task": false
    }
   },
   "outputs": [],
   "source": [
    "import plotly.express as px\n",
    "\n",
    "coef = pd.Series(pipe[-1].coef_.ravel(), index=pipe[-1].feature_names_in_).sort_values()\n",
    "fig = px.bar(x=coef.index, y=coef.values, labels={'x': 'Feature', 'y': 'Coefficient'}, title='Feature importance')\n",
    "fig.show()"
   ]
  },
  {
   "cell_type": "markdown",
   "metadata": {
    "deletable": false,
    "editable": false,
    "id": "evERSqB9MPid",
    "nbgrader": {
     "cell_type": "markdown",
     "checksum": "c2f7ad1b9cf813f61405d5fe473b373e",
     "grade": false,
     "grade_id": "cell-c7c37a1aa2fjk33bhj36",
     "locked": true,
     "schema_version": 3,
     "solution": false,
     "task": false
    }
   },
   "source": [
    "<div class=\"alert alert-info\"><b>Exercise 6 </b> \n",
    "    \n",
    "The preceding exercises were focused on solving a classification task. Now, let's repeat the same process but this time utilize the `CREDIT_SCORE` target variable to address a regression task. This exercise is open-ended, allowing you to employ any scaler, imputer, transformer, or encoder of your choice. The only requirement is to train a linear regression model using the same columns used in the previous exercises.\n",
    "<br><i>[4 points]</i>\n",
    "</div>\n",
    "\n"
   ]
  },
  {
   "cell_type": "code",
   "execution_count": null,
   "metadata": {
    "ExecuteTime": {
     "end_time": "2024-02-01T13:07:08.385514342Z",
     "start_time": "2024-02-01T13:07:08.301518287Z"
    },
    "deletable": false,
    "id": "rnxOTovpEqpu",
    "nbgrader": {
     "cell_type": "code",
     "checksum": "6e49a277a4cdf3b558e42bc955121783",
     "grade": true,
     "grade_id": "ex6",
     "locked": false,
     "points": 4,
     "schema_version": 3,
     "solution": true,
     "task": false
    }
   },
   "outputs": [],
   "source": [
    "# YOUR CODE HERE"
   ]
  },
  {
   "cell_type": "markdown",
   "metadata": {
    "deletable": false,
    "editable": false,
    "nbgrader": {
     "cell_type": "markdown",
     "checksum": "f179848b0a3a94aedd9943464d64bd7a",
     "grade": false,
     "grade_id": "cell-11c606e0de4c0013",
     "locked": true,
     "schema_version": 3,
     "solution": false,
     "task": false
    }
   },
   "source": [
    "<div class=\"alert alert-info\"><b>Exercise 7 </b> \n",
    "\n",
    "Let's now proceed to compare both models. Execute the following cell to visualize the new weights, then provide insightful observations regarding their differences. Please ensure your insights are well-supported; otherwise, non-substantiated descriptions will be graded with 0.\n",
    "<br><i>[1 point]</i>\n",
    "</div>"
   ]
  },
  {
   "cell_type": "code",
   "execution_count": null,
   "metadata": {
    "ExecuteTime": {
     "end_time": "2024-02-01T13:07:08.387350773Z",
     "start_time": "2024-02-01T13:07:08.301701779Z"
    },
    "deletable": false,
    "editable": false,
    "jupyter": {
     "outputs_hidden": false
    },
    "nbgrader": {
     "cell_type": "code",
     "checksum": "70bd98016852f19818623cdc812a0693",
     "grade": false,
     "grade_id": "cell-0841bd57402ebb39",
     "locked": true,
     "schema_version": 3,
     "solution": false,
     "task": false
    }
   },
   "outputs": [],
   "source": [
    "import plotly.express as px\n",
    "\n",
    "coef = pd.Series(pipe[-1].coef_.ravel(), index=pipe[-1].feature_names_in_).sort_values()\n",
    "fig = px.bar(x=coef.index, y=coef.values, labels={'x': 'Feature', 'y': 'Coefficient'}, title='Feature importance')\n",
    "fig.show()"
   ]
  },
  {
   "cell_type": "code",
   "execution_count": null,
   "metadata": {
    "ExecuteTime": {
     "end_time": "2024-02-01T13:07:08.528656597Z",
     "start_time": "2024-02-01T13:07:08.311852313Z"
    },
    "deletable": false,
    "nbgrader": {
     "cell_type": "code",
     "checksum": "d250f8196eac2827a7982f47f1ccf112",
     "grade": true,
     "grade_id": "ex7",
     "locked": false,
     "points": 1,
     "schema_version": 3,
     "solution": true,
     "task": false
    }
   },
   "outputs": [],
   "source": [
    "# Elaborate your justified explanation in this cell\n",
    "# YOUR CODE HERE"
   ]
  }
 ],
 "metadata": {
  "colab": {
   "collapsed_sections": [],
   "name": "Session I.ipynb",
   "provenance": []
  },
  "kernelspec": {
   "display_name": "Python 3 (ipykernel)",
   "language": "python",
   "name": "python3"
  },
  "language_info": {
   "codemirror_mode": {
    "name": "ipython",
    "version": 3
   },
   "file_extension": ".py",
   "mimetype": "text/x-python",
   "name": "python",
   "nbconvert_exporter": "python",
   "pygments_lexer": "ipython3",
   "version": "3.11.7"
  }
 },
 "nbformat": 4,
 "nbformat_minor": 4
}
